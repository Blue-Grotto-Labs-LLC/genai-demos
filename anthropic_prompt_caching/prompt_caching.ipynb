{
 "cells": [
  {
   "cell_type": "markdown",
   "metadata": {},
   "source": [
    "# Benchmarking Anthropic's Prompt Caching\n",
    "\n",
    "## Overview\n",
    "This notebook quickly explores Anthropic's prompt caching feature, comparing time and costs for a large prompt. Below, we:\n",
    "\n",
    "* Load a copy of the US Constitution (~70k tokens) and shove it into a system prompt\n",
    "* Ask 5 questions about it without caching the prompt, using Anthropic models, and benchmark response times\n",
    "* Ask the same questions about it *with* system prompt caching, and benchmark response times\n",
    "* Compare it with Langchain prompt caching\n",
    "\n",
    "You can read more about:\n",
    "* Anthropic's prompt caching: https://docs.anthropic.com/en/docs/build-with-claude/prompt-caching\n",
    "* OpenAI's prompt caching: https://platform.openai.com/docs/guides/prompt-caching  \n",
    "* Langchain's caching: https://python.langchain.com/docs/how_to/caching_embeddings/#using-with-a-vector-store\n",
    "\n",
    "## TL;DR (Too Long; Didn't Run)\n",
    "Using an unscientific toy example, Anthropic's prompt caching feature reduced my runtime by 40-50% and cut costs by up to 65% after just 5 calls. But it only makes sense to use this feature with long prompts and repeated calls in a short time frame."
   ]
  },
  {
   "cell_type": "markdown",
   "metadata": {},
   "source": [
    "## Setup\n",
    "\n",
    "First, set up some prerequisites: Libraries, API keys, etc."
   ]
  },
  {
   "cell_type": "code",
   "execution_count": 16,
   "metadata": {},
   "outputs": [],
   "source": [
    "!pip install -qU langchain langchain-anthropic bs4 anthropic"
   ]
  },
  {
   "cell_type": "code",
   "execution_count": null,
   "metadata": {},
   "outputs": [],
   "source": [
    "import getpass\n",
    "anthropic_api_key = getpass.getpass(\"Anthropic API key: \")\n"
   ]
  },
  {
   "cell_type": "markdown",
   "metadata": {},
   "source": [
    "Choose your preferred model below; just make sure it's a model for which Anthropic has prompt cachign available.\n",
    "\n",
    "Timeout can be adjusted based on your account settings; this helps avoid hitting rate limits. For a Tier 2 account using Sonnet, 60 seconds worked for me. (10 seconds worked with Haiku.)"
   ]
  },
  {
   "cell_type": "code",
   "execution_count": 12,
   "metadata": {},
   "outputs": [],
   "source": [
    "model =\"claude-3-5-sonnet-latest\"\n",
    "wait_time_seconds = 60"
   ]
  },
  {
   "cell_type": "markdown",
   "metadata": {},
   "source": [
    "Grab the data -- the US constitution"
   ]
  },
  {
   "cell_type": "code",
   "execution_count": 13,
   "metadata": {},
   "outputs": [],
   "source": [
    "import requests\n",
    "import os\n",
    "\n",
    "from bs4 import BeautifulSoup\n",
    "\n",
    "# Text of the U.S. Constitution - about 66k tokens!\n",
    "url = \"https://www.govinfo.gov/content/pkg/CDOC-110hdoc50/html/CDOC-110hdoc50.htm\" \n",
    "txt_file_name = \"constitution.txt\"\n",
    "\n",
    "if os.path.isfile(txt_file_name):\n",
    "    with open(txt_file_name, \"r\", encoding=\"utf-8\") as file:\n",
    "        us_constitution_text = file.read()\n",
    "else:\n",
    "    response = requests.get(url)\n",
    "\n",
    "    soup = BeautifulSoup(response.content, 'html.parser')\n",
    "    us_constitution_text = soup.get_text(separator=\"\\n\", strip=True)\n",
    "        \n",
    "    # Save the text content to a .txt file\n",
    "    output_file = txt_file_name\n",
    "    with open(output_file, \"w\", encoding=\"utf-8\") as file:\n",
    "        file.write(text_content)"
   ]
  },
  {
   "cell_type": "markdown",
   "metadata": {},
   "source": [
    "I generated these test questions using AI. Also set up a simple system prompt."
   ]
  },
  {
   "cell_type": "code",
   "execution_count": 3,
   "metadata": {},
   "outputs": [],
   "source": [
    "test_questions = [\n",
    "    \"What six goals are outlined in the Preamble of the U.S. Constitution?\",\n",
    "    \"How does Article I define the composition and powers of the House and Senate?\",\n",
    "    \"What process does Article V establish for proposing and ratifying constitutional amendments?\",\n",
    "    \"What powers are explicitly granted to Congress under Article I, Section 8?\",\n",
    "    \"How does the Constitution address the resolution of disputes between states in Article III?\"\n",
    "]\n",
    "\n",
    "system_prompt = f\"\"\"Answer the question based on the context. \n",
    "\n",
    "Context: {us_constitution_text}\n",
    "\"\"\""
   ]
  },
  {
   "cell_type": "markdown",
   "metadata": {},
   "source": [
    "## Baseline: Ask the test questions with no prompt caching"
   ]
  },
  {
   "cell_type": "code",
   "execution_count": null,
   "metadata": {},
   "outputs": [
    {
     "name": "stdout",
     "output_type": "stream",
     "text": [
      "[TextBlock(text='According to the Preamble of the U.S. Constitution, the six goals are:\\n\\n1. \"Form a more perfect Union\"\\n2. \"Establish Justice\"\\n3. \"Insure domestic Tranquility\"\\n4. \"Provide for the common defence\"\\n5. \"Promote the general Welfare\"\\n6. \"Secure the Blessings of Liberty to ourselves and our Posterity\"\\n\\nThese goals are laid out in the opening paragraph of the Constitution, which reads:\\n\\n\"We the People of the United States, in Order to form a more perfect Union, establish Justice, insure domestic Tranquility, provide for the common defence, promote the general Welfare, and secure the Blessings of Liberty to ourselves and our Posterity, do ordain and establish this Constitution for the United States of America.\"\\n\\nThese six goals represent the fundamental purposes and aspirations that the Constitution was designed to achieve for the United States.', type='text')]\n",
      "Cache usage: Usage(cache_creation_input_tokens=0, cache_read_input_tokens=0, input_tokens=70549, output_tokens=210)\n",
      "Time: 10.644216060638428s\n",
      "[TextBlock(text='Based on the Constitution text, Article I defines the composition and powers of the House and Senate in several key ways:\\n\\nHouse of Representatives:\\n1. Composition:\\n- Members chosen every 2 years by the people\\n- Representatives must be at least 25 years old, a U.S. citizen for 7 years, and live in the state they represent\\n- Number of Representatives based on state population\\n- House chooses its own Speaker and officers\\n- Vacancies filled through special elections called by state executives\\n\\n2. Key Powers:\\n- Sole power of impeachment\\n- Originates all revenue bills\\n- Shares general legislative powers with Senate\\n- Judge of elections and qualifications of its own members\\n- Can establish its own rules and discipline members\\n\\nSenate:\\n1. Composition:\\n- Two Senators per state (originally chosen by state legislatures, now directly elected by people under 17th Amendment)\\n- Senators must be at least 30 years old, U.S. citizens for 9 years, and live in state they represent\\n- Vice President serves as President of Senate but only votes to break ties\\n- Senate chooses other officers including President pro tempore\\n- Terms are 6 years, with one-third elected every 2 years\\n\\n2. Key Powers:\\n- Sole power to try impeachments\\n- Can approve or reject presidential appointments\\n- Can approve or reject treaties (with 2/3 vote)\\n- Shares general legislative powers with House\\n- Judge of elections and qualifications of its own members\\n- Can establish its own rules and discipline members\\n\\nShared Features:\\n- Both houses must meet regularly\\n- Members receive compensation and have immunity for official speech and debate\\n- Neither house can adjourn for more than 3 days without consent of the other\\n- Both houses must keep and publish journals of proceedings\\n- Members cannot hold other federal offices simultaneously\\n- Both houses need majority for quorum but can compel attendance\\n\\nThe structure creates a bicameral legislature with distinct roles for each chamber while requiring their cooperation for passing legislation and conducting other congressional business.', type='text')]\n",
      "Cache usage: Usage(cache_creation_input_tokens=0, cache_read_input_tokens=0, input_tokens=70545, output_tokens=455)\n",
      "Time: 14.267642259597778s\n",
      "[TextBlock(text=\"Based on Article V of the Constitution, here is the process for proposing and ratifying constitutional amendments:\\n\\nProposing Amendments:\\nThere are two methods to propose amendments:\\n\\n1. Congressional Method:\\n- Two-thirds of both Houses of Congress must deem it necessary and propose the amendment\\n\\n2. Convention Method: \\n- Two-thirds of the state legislatures can apply to Congress to call a convention for proposing amendments\\n- Congress must then call the convention\\n\\nRatifying Amendments:\\nOnce proposed, there are two possible methods for ratification:\\n\\n1. State Legislature Method:\\n- Three-fourths of the state legislatures must ratify the amendment\\n\\n2. State Convention Method:\\n- Conventions in three-fourths of the states must ratify the amendment\\n- Congress gets to choose which ratification method will be used\\n\\nAdditional Important Points:\\n- No amendment can deprive any state of its equal representation in the Senate without that state's consent\\n- Prior to 1808, no amendments could affect the Constitution's provisions regarding the slave trade or direct taxes\\n\\nIn summary, Article V creates a deliberately difficult process requiring broad consensus, with multiple possible paths for both proposing and ratifying amendments. This reflects the Founders' desire to allow the Constitution to be changed when necessary while ensuring changes have widespread support.\", type='text')]\n",
      "Cache usage: Usage(cache_creation_input_tokens=0, cache_read_input_tokens=0, input_tokens=70545, output_tokens=282)\n",
      "Time: 11.779093027114868s\n",
      "[TextBlock(text='According to Article I, Section 8 of the Constitution, Congress is explicitly granted the following powers:\\n\\n1. Tax and Finance Powers:\\n- Lay and collect taxes, duties, imposts, and excises\\n- Borrow money on credit of the United States\\n- Pay the debts of the United States\\n\\n2. Commerce and Trade:\\n- Regulate commerce with foreign nations, among states, and with Indian tribes\\n- Establish uniform bankruptcy laws\\n- Coin money and regulate its value\\n- Fix standards of weights and measures\\n- Punish counterfeiting\\n\\n3. Infrastructure and Communications:\\n- Establish post offices and post roads\\n\\n4. Intellectual Property:\\n- Promote science and useful arts by securing copyrights and patents\\n\\n5. Judicial:\\n- Constitute tribunals inferior to the Supreme Court\\n- Define and punish piracies and felonies on high seas\\n- Define and punish offenses against the law of nations\\n\\n6. Military and Defense:\\n- Declare war\\n- Grant letters of marque and reprisal\\n- Make rules for captures on land and water\\n- Raise and support armies (appropriations limited to 2 years)\\n- Provide and maintain a navy\\n- Make rules for governing military forces\\n- Provide for calling forth the militia\\n- Organize, arm, and discipline the militia\\n\\n7. Federal District and Property:\\n- Exercise exclusive legislation over the federal district (seat of government)\\n- Exercise authority over places purchased for federal facilities\\n\\n8. General Authority:\\n- Make all laws \"necessary and proper\" for executing the foregoing powers and all other powers vested in the federal government\\n\\nThis \"necessary and proper\" clause (sometimes called the \"elastic clause\") extends Congress\\'s authority beyond the specifically enumerated powers to those reasonably related to achieving these constitutional ends.', type='text')]\n",
      "Cache usage: Usage(cache_creation_input_tokens=0, cache_read_input_tokens=0, input_tokens=70545, output_tokens=396)\n",
      "Time: 13.85211181640625s\n",
      "[TextBlock(text='According to Article III of the Constitution, here\\'s how disputes between states are addressed:\\n\\n1. Jurisdiction: Article III, Section 2, Clause 1 explicitly grants the judicial power of the United States to cases and controversies \"between two or more States.\"\\n\\n2. Supreme Court Original Jurisdiction: Article III, Section 2, Clause 2 specifies that \"In all Cases... in which a State shall be Party, the supreme Court shall have original jurisdiction.\" This means disputes between states go directly to the Supreme Court rather than starting in lower courts.\\n\\nThis arrangement serves several important purposes:\\n- It provides a neutral federal forum for resolving interstate disputes\\n- It ensures disputes between sovereign states are handled at the highest judicial level\\n- It helps prevent interstate conflicts from escalating into more serious confrontations\\n\\nThe Constitution\\'s approach reflects the Founders\\' concern about maintaining peaceful relations between states and providing an orderly process for resolving conflicts. By making the Supreme Court the initial and primary arbiter of interstate disputes, the Constitution creates a clear path for legal resolution of conflicts between states.\\n\\nWould you like me to expand on any aspect of how the Constitution handles interstate disputes?', type='text')]\n",
      "Cache usage: Usage(cache_creation_input_tokens=0, cache_read_input_tokens=0, input_tokens=70545, output_tokens=248)\n",
      "Time: 11.871114015579224s\n"
     ]
    }
   ],
   "source": [
    "import anthropic\n",
    "import time\n",
    "\n",
    "client = anthropic.Anthropic(api_key=anthropic_api_key)\n",
    "for i,question in enumerate(test_questions):\n",
    "  start_time = time.time()\n",
    "  response = client.messages.create(\n",
    "      model=model,\n",
    "      max_tokens=1024,\n",
    "      system=[\n",
    "        {\n",
    "          \"type\": \"text\",\n",
    "          \"text\": system_prompt,\n",
    "        }\n",
    "      ],\n",
    "      messages=[{\"role\": \"user\", \"content\": f\"Question to analyze: {question}\"}],\n",
    "  )\n",
    "  print(response.content)\n",
    "  print(f\"Cache usage: {response.usage}\")\n",
    "  print(f\"Time: {time.time()-start_time}s\")\n",
    "\n",
    "  if i<(len(test_questions)-1):\n",
    "    time.sleep(wait_time_seconds) "
   ]
  },
  {
   "cell_type": "markdown",
   "metadata": {},
   "source": [
    "## Comparison: Ask the same questions, but cache the system prompt"
   ]
  },
  {
   "cell_type": "code",
   "execution_count": 15,
   "metadata": {},
   "outputs": [
    {
     "name": "stdout",
     "output_type": "stream",
     "text": [
      "[TextBlock(text='According to the Preamble of the U.S. Constitution, the six goals outlined are:\\n\\n1. To form a more perfect Union\\n2. To establish Justice\\n3. To insure domestic Tranquility\\n4. To provide for the common defence\\n5. To promote the general Welfare\\n6. To secure the Blessings of Liberty to ourselves and our Posterity\\n\\nThese goals are stated in the opening lines of the Constitution:\\n\\n\"We the People of the United States, in Order to form a more perfect Union, establish Justice, insure domestic Tranquility, provide for the common defence, promote the general Welfare, and secure the Blessings of Liberty to ourselves and our Posterity, do ordain and establish this Constitution for the United States of America.\"\\n\\nThese six goals represent the fundamental purposes for which the Constitution was created and serve as guiding principles for the American system of government.', type='text')]\n",
      "Cache usage: Usage(cache_creation_input_tokens=70520, cache_read_input_tokens=0, input_tokens=29, output_tokens=200)\n",
      "Time: 10.574955940246582s\n",
      "[TextBlock(text='Based on the Constitution document, Article I defines the composition and powers of the House and Senate in several key ways:\\n\\nHouse of Representatives:\\n1. Composition:\\n- Members chosen every 2 years by the people of each state (Section 2, Clause 1)\\n- Representatives must be at least 25 years old, a US citizen for 7 years, and live in the state they represent (Section 2, Clause 2)\\n- Number of Representatives based on state population (Section 2, Clause 3)\\n- Vacancies filled through special elections called by state executives (Section 2, Clause 4)\\n\\n2. Powers:\\n- Sole power of impeachment (Section 2, Clause 5)\\n- Originates all revenue bills (Section 7, Clause 1)\\n- Chooses its Speaker and other officers (Section 2, Clause 5)\\n\\nSenate:\\n1. Composition:\\n- Two Senators per state (Section 3, Clause 1)\\n- Senators must be at least 30 years old, US citizens for 9 years, and live in their state (Section 3, Clause 3)\\n- Originally chosen by state legislatures for 6-year terms (later changed by 17th Amendment)\\n- Divided into three classes for staggered elections (Section 3, Clause 2)\\n\\n2. Powers:\\n- Vice President serves as President of Senate but only votes to break ties (Section 3, Clause 4)\\n- Sole power to try impeachments (Section 3, Clause 6)\\n- Chooses its other officers and President pro tempore (Section 3, Clause 5)\\n\\nShared Powers/Rules for Both Houses:\\n1. Each House:\\n- Judges qualifications of its own members (Section 5, Clause 1)\\n- Makes its own rules (Section 5, Clause 2)\\n- Keeps and publishes a journal of proceedings (Section 5, Clause 3)\\n- Cannot adjourn for more than 3 days without consent of the other chamber (Section 5, Clause 4)\\n\\n2. Members of both houses:\\n- Receive compensation set by law (Section 6, Clause 1)\\n- Have immunity from arrest while attending sessions (except for treason, felony, or breach of peace) (Section 6, Clause 1)\\n- Cannot hold other federal offices (Section 6, Clause 2)\\n- Cannot be questioned elsewhere for speeches or debates in Congress (Section 6, Clause 1)\\n\\nThe structure creates a bicameral legislature with different compositions and specific powers for each chamber, while establishing shared rules and privileges for members of both houses.', type='text')]\n",
      "Cache usage: Usage(cache_creation_input_tokens=0, cache_read_input_tokens=70520, input_tokens=25, output_tokens=615)\n",
      "Time: 10.2564537525177s\n",
      "[TextBlock(text='Based on Article V of the Constitution, here is the established process for proposing and ratifying constitutional amendments:\\n\\nProposing Amendments:\\nThere are two methods to propose amendments:\\n\\n1. Congressional Method:\\n- Congress can propose amendments whenever two-thirds of both Houses deem it necessary\\n\\n2. Convention Method:\\n- Upon application of two-thirds of the state legislatures, Congress shall call a convention for proposing amendments\\n\\nRatifying Amendments:\\nOnce proposed, amendments can be ratified in one of two ways:\\n\\n1. State Legislature Method:\\n- Ratification by the legislatures of three-fourths of the states\\n\\n2. State Convention Method:\\n- Ratification by conventions in three-fourths of the states\\n- Congress gets to choose which ratification method will be used\\n\\nLimitations:\\nArticle V includes two key limitations:\\n- No amendment made prior to 1808 could affect the first and fourth clauses in Article I, Section 9 (relating to slave trade and direct taxation)\\n- No state can be deprived of its equal suffrage in the Senate without its consent\\n\\nThe text makes clear that amendments become \"valid to all Intents and Purposes\" as part of the Constitution when ratified through either of the prescribed methods by three-fourths of the states. The process requires broad consensus, with super-majorities needed both to propose (2/3) and to ratify (3/4) amendments.', type='text')]\n",
      "Cache usage: Usage(cache_creation_input_tokens=0, cache_read_input_tokens=70520, input_tokens=25, output_tokens=315)\n",
      "Time: 6.462921142578125s\n",
      "[TextBlock(text='According to Article I, Section 8 of the Constitution, Congress is explicitly granted the following powers:\\n\\n1. Taxes and Finance:\\n- Lay and collect taxes, duties, imposts, and excises\\n- Borrow money on credit of the United States\\n- Pay the debts of the United States\\n\\n2. Commerce and Trade:\\n- Regulate commerce with foreign nations, among states, and with Indian tribes\\n- Establish uniform bankruptcy laws\\n- Coin money and regulate its value\\n- Fix standards of weights and measures\\n- Punish counterfeiting\\n\\n3. Infrastructure and Communications:\\n- Establish post offices and post roads\\n\\n4. Intellectual Property:\\n- Promote science and useful arts through patents and copyrights\\n\\n5. Judicial:\\n- Constitute tribunals inferior to the Supreme Court\\n- Define and punish piracies, felonies on high seas, and offenses against international law\\n\\n6. Military and Defense:\\n- Declare war\\n- Grant letters of marque and reprisal\\n- Make rules concerning captures on land and water\\n- Raise and support armies (with funding limited to 2 years)\\n- Provide and maintain a navy\\n- Make rules for governing military forces\\n- Provide for calling forth the militia\\n- Organize, arm, and discipline the militia\\n\\n7. Federal District and Property:\\n- Exercise exclusive legislation over the federal district (DC)\\n- Exercise authority over forts, magazines, arsenals, dockyards, and other federal properties\\n\\n8. General Authority:\\n- Make all laws \"necessary and proper\" for executing the foregoing powers and all other powers vested in the federal government\\n\\nThis \"necessary and proper\" clause (sometimes called the \"elastic clause\") has been interpreted to give Congress implied powers beyond those specifically enumerated.', type='text')]\n",
      "Cache usage: Usage(cache_creation_input_tokens=0, cache_read_input_tokens=70520, input_tokens=25, output_tokens=391)\n",
      "Time: 7.468961000442505s\n",
      "[TextBlock(text='According to Article III of the Constitution, here\\'s how disputes between states are addressed:\\n\\n1. Jurisdiction: Article III, Section 2, Clause 1 explicitly gives the judicial power of the United States jurisdiction over:\\n- Controversies between two or more States\\n- Controversies between a State and citizens of another State (though this was later modified by the 11th Amendment)\\n- Controversies between citizens of different States\\n\\n2. Supreme Court\\'s Role: Article III, Section 2, Clause 2 specifies that in cases where a State is a party, the Supreme Court shall have original jurisdiction. This means these cases can be brought directly to the Supreme Court rather than having to first go through lower courts.\\n\\nThe key passage states: \"In all Cases affecting Ambassadors, other public Ministers and Consuls, and those in which a State shall be Party, the supreme Court shall have original Jurisdiction.\"\\n\\nThis framework was designed to:\\n- Provide an impartial federal forum for resolving interstate disputes\\n- Prevent states from having to submit to the courts of other states\\n- Ensure that disputes between states would be handled at the highest judicial level\\n\\nThe Constitution thus established the Supreme Court as the primary arbiter of interstate disputes, reflecting the Founders\\' desire to have a strong federal mechanism for resolving conflicts between states rather than leaving states to resolve disputes among themselves, which had proven problematic under the Articles of Confederation.', type='text')]\n",
      "Cache usage: Usage(cache_creation_input_tokens=0, cache_read_input_tokens=70520, input_tokens=25, output_tokens=310)\n",
      "Time: 6.1199729442596436s\n"
     ]
    }
   ],
   "source": [
    "for i,question in enumerate(test_questions):\n",
    "  start_time = time.time()\n",
    "  response = client.messages.create(\n",
    "      model=model,\n",
    "      max_tokens=1024,\n",
    "      system=[\n",
    "        {\n",
    "          \"type\": \"text\",\n",
    "          \"text\": system_prompt,\n",
    "          \"cache_control\": {\"type\": \"ephemeral\"}\n",
    "        }\n",
    "      ],\n",
    "      messages=[{\"role\": \"user\", \"content\": f\"Question to analyze: {question}\"}],\n",
    "  )\n",
    "  print(response.content)\n",
    "  print(f\"Cache usage: {response.usage}\")\n",
    "  print(f\"Time: {time.time()-start_time}s\")\n",
    "\n",
    "  if i<(len(test_questions)-1):\n",
    "    time.sleep(wait_time_seconds) "
   ]
  },
  {
   "cell_type": "markdown",
   "metadata": {},
   "source": [
    "## Results\n",
    "\n",
    "| Model | Prompt Caching | Median Response Time | Cache Creation Tokens | Cache Read Tokens | Input Tokens | Output Tokens | Cost |\n",
    "|-------|---------------|---------------------|---------------------------|----------------------|-------------------|-------------------|------|\n",
    "| Sonnet-3.5 | N | **11.9 s** | 0 | 0 | 352729 | 1591 | **$1.08** |\n",
    "| Sonnet-3.5 | Y | **10.6 s (cache creation), 7.0 s (subsequent)** | 70520 | 282080 | 129 | 1731 | **$0.38** |\n",
    "| Haiku-3.5 | N | **16.1 s** | 0 | 0 | 352729 | 1591 | **$0.36** |\n",
    "| Haiku-3.5 | Y | **13.4 s (cache creation), 8.0 s (subsequent)** | 70520 | 282080 | 129 | 1467 | **$0.12** |\n",
    "\n",
    "So here we have it! Benefits of prompt caching for this example:\n",
    "\n",
    "* After the initial cache creation, it's about **40-50% faster**. \n",
    "* Reading the cache is less expensive than normal input tokens, so keeping the model the same, the total **cost dropped by about 65%**!\n",
    "\n",
    "Interestingly, the Haiku calls were _not_ faster than the Sonnet calls here as one might expect. This may have more to do with API load than the models themselves.\n",
    "\n",
    "It would be interesting to compare these results to RAG and see how the time, cost and accuracy compares; is it faster / cheaper to shove everything in the prompt and cache it, or fetch the context from a vector DB? (Of course, the answer to this likely depends on the model, data and use case!)\n",
    "\n",
    "## When to use Anthropic's prompt caching\n",
    "\n",
    "Prompt caching really only makes sense when:\n",
    "* You have long context (>1024 tokens), and\n",
    "* Repeated calls in a <5 minute time window with similar context \n",
    "\n",
    "Anthropic's cache refreshes after 5 minutes of disuse -- so it's not worthwhile to cache if you are calling infrequently! In fact, since cache creation costs more than regular input tokens, this could actually _increase_ your costs.\n",
    "\n",
    "Also -- note that I used a direct call to Anthropic's API here, instead of using Langchain. I started out with Langchain, but prompt caching didn't work well for me -- it may be that Langchain 0.3 does not fully support this feature yet since Anthropic only recently (as of 1/15/24) took it out of beta.  I did not try LlamaIndex.\n",
    "\n",
    "## How it compares to OpenAI's\n",
    "\n",
    "OpenAI automatically applies prompt caching to prompts longer than 1024 tokens, so in some ways it's simpler -- it's happening under the hood and doesn't need to be set up separately.\n",
    "\n",
    "On the other hand, OpenAI only applies caching if there is an exact match at the beginning of the prompt. Anthropic's version is much more flexible, allowing the user to tag which parts of the prompt to cache or not."
   ]
  },
  {
   "cell_type": "markdown",
   "metadata": {},
   "source": [
    "## What about Langchain's caching feature?\n",
    "\n",
    "Langchain also has caching options, which can offer blazingly fast performance, but it only applies if the prompt is _identical_ each time. The speedup is much more dramatic than what Anthropic offers, but if only part of your prompt is the same, this won't help.\n",
    "\n",
    "Below is some example code -- in this case I was able to get a response in <0.005 s for an identical prompt using an in-memory cache. \n",
    "\n",
    "If you expect to have prompts that are semantically similar but not quite identical, **semantic caching** is a great option to explore as well! For an example build of semantic caching with Redis, see the bottom of [this notebook](https://github.com/angelachapman/llmops/blob/main/Week%208/Day%201/Prototyping_LangChain_Application_with_Production_Minded_Changes_Assignment.ipynb)\n",
    "\n",
    "And of course these caching options are not all mutually exclusive -- mixing and matching is probably the best way to optimize compute time and costs."
   ]
  },
  {
   "cell_type": "code",
   "execution_count": 5,
   "metadata": {},
   "outputs": [],
   "source": [
    "from langchain_anthropic import ChatAnthropic\n",
    "from langchain_core.prompts import ChatPromptTemplate\n",
    "\n",
    "# Set up a ChatAnthropic LLM without prompt caching, to baseline.\n",
    "llm = ChatAnthropic(\n",
    "    model=\"claude-3-5-haiku-latest\",  \n",
    "    anthropic_api_key=anthropic_api_key  \n",
    ")\n",
    "\n",
    "prompt = ChatPromptTemplate.from_messages(\n",
    "    [\n",
    "        (\"system\", system_prompt),\n",
    "        (\"human\", \"Question: {question}\"),\n",
    "    ]\n",
    ")\n",
    "\n",
    "chain = prompt | llm"
   ]
  },
  {
   "cell_type": "code",
   "execution_count": 7,
   "metadata": {},
   "outputs": [],
   "source": [
    "from langchain_core.globals import set_llm_cache\n",
    "from langchain_core.caches import InMemoryCache\n",
    "\n",
    "set_llm_cache(InMemoryCache())"
   ]
  },
  {
   "cell_type": "code",
   "execution_count": null,
   "metadata": {},
   "outputs": [],
   "source": [
    "import time\n",
    "\n",
    "for question in test_questions:\n",
    "    start_time = time.time()\n",
    "    print(chain.invoke({\n",
    "            \"question\": question,\n",
    "            })   \n",
    "    )\n",
    "\n",
    "    print(f\"Time: {time.time()-start_time}\\n\")\n",
    "    time.sleep(wait_time_seconds) # Tier 2 account, so sleep for a bit before calling again\n"
   ]
  },
  {
   "cell_type": "code",
   "execution_count": 10,
   "metadata": {},
   "outputs": [
    {
     "name": "stdout",
     "output_type": "stream",
     "text": [
      "content='Based on the Preamble text in the document, the six goals outlined are:\\n\\n1. To form a more perfect Union\\n2. To establish Justice\\n3. To insure domestic Tranquility\\n4. To provide for the common defence\\n5. To promote the general Welfare\\n6. To secure the Blessings of Liberty to ourselves and our Posterity\\n\\nThe full Preamble reads: \"We the People of the United States, in Order to form a more perfect Union, establish Justice, insure domestic Tranquility, provide for the common defence, promote the general Welfare, and secure the Blessings of Liberty to ourselves and our Posterity, do ordain and establish this Constitution for the United States of America.\"' additional_kwargs={} response_metadata={'id': 'msg_01A4DYzJHYCQEPfAnx8AArYZ', 'model': 'claude-3-5-haiku-20241022', 'stop_reason': 'end_turn', 'stop_sequence': None, 'usage': {'cache_creation_input_tokens': 0, 'cache_read_input_tokens': 0, 'input_tokens': 70547, 'output_tokens': 165}} id='run-3434c0e5-348c-44fc-a8bf-930f07db2a42-0' usage_metadata={'input_tokens': 70547, 'output_tokens': 165, 'total_tokens': 70712, 'input_token_details': {'cache_read': 0, 'cache_creation': 0}}\n",
      "Time: 0.0038938522338867188\n",
      "\n"
     ]
    }
   ],
   "source": [
    "import time\n",
    "\n",
    "start_time = time.time()\n",
    "print(chain.invoke({\n",
    "    \"question\": test_questions[0],\n",
    "    })   \n",
    ")\n",
    "\n",
    "print(f\"Time: {time.time()-start_time}\\n\")"
   ]
  }
 ],
 "metadata": {
  "kernelspec": {
   "display_name": ".venv",
   "language": "python",
   "name": "python3"
  },
  "language_info": {
   "codemirror_mode": {
    "name": "ipython",
    "version": 3
   },
   "file_extension": ".py",
   "mimetype": "text/x-python",
   "name": "python",
   "nbconvert_exporter": "python",
   "pygments_lexer": "ipython3",
   "version": "3.13.1"
  }
 },
 "nbformat": 4,
 "nbformat_minor": 2
}
