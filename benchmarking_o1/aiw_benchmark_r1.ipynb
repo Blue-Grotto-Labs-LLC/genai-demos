{
 "cells": [
  {
   "cell_type": "markdown",
   "metadata": {},
   "source": [
    "### Use the AIW dataset to benchmark DeepSeek R1\n",
    "\n",
    "https://github.com/LAION-AI/AIW\n"
   ]
  },
  {
   "cell_type": "code",
   "execution_count": 19,
   "metadata": {},
   "outputs": [],
   "source": [
    "!pip install -qU  datasets tqdm huggingface_hub backoff"
   ]
  },
  {
   "cell_type": "code",
   "execution_count": 4,
   "metadata": {},
   "outputs": [],
   "source": [
    "import getpass\n",
    "hf_api_key = getpass.getpass(\"HuggingFace API key: \") \n"
   ]
  },
  {
   "cell_type": "code",
   "execution_count": 3,
   "metadata": {},
   "outputs": [
    {
     "name": "stderr",
     "output_type": "stream",
     "text": [
      "/Users/Angela/Desktop/genai-demos/benchmarking_o1/.venv/lib/python3.13/site-packages/tqdm/auto.py:21: TqdmWarning: IProgress not found. Please update jupyter and ipywidgets. See https://ipywidgets.readthedocs.io/en/stable/user_install.html\n",
      "  from .autonotebook import tqdm as notebook_tqdm\n"
     ]
    },
    {
     "name": "stdout",
     "output_type": "stream",
     "text": [
      "{'id': [1, 2, 3, 4, 5], 'text': [\"Alice has 4 brothers and she also has 1 sister. How many sisters does Alice's brother have? To answer the question, DO NOT OUTPUT ANY TEXT EXCEPT following format that contains final answer: ### Answer:\", \"Alice has 4 sisters and she also has 1 brother. How many sisters does Alice's brother have? To answer the question, DO NOT OUTPUT ANY TEXT EXCEPT following format that contains final answer: ### Answer:\", \"Alice has four brothers and she also has one sister. How many sisters does Alice's brother have? To answer the question, DO NOT OUTPUT ANY TEXT EXCEPT following format that contains final answer: ### Answer:\", \"Alice has four sisters and she also has one brother. How many sisters does Alice's brother have? To answer the question, DO NOT OUTPUT ANY TEXT EXCEPT following format that contains final answer: ### Answer:\", \"Alice has 4 brothers and she also has 1 sister. How many sisters does Alice's brother have?\"], 'right_answer': ['2', '5', '2', '5', '2'], 'description': ['original prompt', 'easy prompt', 'original prompt, words instead numbers', 'easy prompt, words instead numbers', 'original prompt, plain, no format enforcement']}\n"
     ]
    }
   ],
   "source": [
    "from datasets import load_dataset\n",
    "\n",
    "# Load the \"Alice in Wonderland\" dataset from Hugging Face\n",
    "dataset = load_dataset(\"marianna13/aiw-prompts\")\n",
    "data = dataset['test'] if 'test' in dataset else dataset['train']\n",
    "\n",
    "print(data[:5])  # Inspect the first 5 rows \n"
   ]
  },
  {
   "cell_type": "code",
   "execution_count": 22,
   "metadata": {},
   "outputs": [],
   "source": [
    "from huggingface_hub import AsyncInferenceClient\n",
    "import backoff\n",
    "\n",
    "client = AsyncInferenceClient(provider=\"together\",\n",
    "                            api_key=hf_api_key,\n",
    "                            timeout=60*5 # extend timeout window to five minutes per request\n",
    "                            )\n",
    "\n",
    "\n",
    "# Seem to be getting a lot of timeouts / gateway errors from HF, so \n",
    "# use a simple retry with exponential backoff\n",
    "@backoff.on_exception( backoff.expo, Exception, max_tries=5, factor=10,)\n",
    "async def _query_deepseek_internal(prompt: str):\n",
    "    response = await client.chat.completions.create(\n",
    "        model=\"deepseek-ai/DeepSeek-R1\",\n",
    "        messages=[\n",
    "            {\"role\": \"user\", \"content\": prompt},\n",
    "        ],\n",
    "    )\n",
    "    return response.choices[0].message.content.strip(), response.usage\n",
    "\n",
    "async def query_deepseek(prompt: str):\n",
    "    try:\n",
    "        return await _query_deepseek_internal(prompt)\n",
    "    except Exception as e:\n",
    "        # If it fails after all retries, return error message and empty usage\n",
    "        return str(e), {}"
   ]
  },
  {
   "cell_type": "code",
   "execution_count": 21,
   "metadata": {},
   "outputs": [
    {
     "name": "stdout",
     "output_type": "stream",
     "text": [
      "<think>\n",
      "Okay, the user is asking, \"What is the capital of England?\" Let's start by confirming that England is part of the United Kingdom, which also includes Scotland, Wales, and Northern Ireland. The capital city of the UK as a whole is London. However, since the question specifically mentions England, I need to make sure that London is indeed the capital of England itself and not just the UK.\n",
      "\n",
      "Wait, sometimes people might confuse the capitals within the UK. For instance, Scotland's capital is Edinburgh, Wales' is Cardiff, and Northern Ireland's is Belfast. But for England, there isn't a separate capital city distinct from the UK's capital. London serves both roles. So the answer should be London. But maybe I should double-check if there's any historical context or if there's been any change. For example, was there ever a different capital for England in the past? I recall that Winchester was the capital of the ancient kingdom of Wessex and later England before London became prominent. However, that was a long time ago, and currently, London is definitely the capital. \n",
      "\n",
      "Also, considering possible follow-up questions, the user might wonder why London is the capital. Maybe they're interested in its history or landmarks. But the question is straightforward. To make sure, I can verify through reliable sources. According to official UK government websites and reputable references like Encyclopaedia Britannica, London is listed as the capital of both England and the UK. \n",
      "\n",
      "So the answer should be clear and direct: London. No need to complicate it unless the user asks for more details. Avoid mentioning other parts of the UK unless necessary, but since the question is about England specifically, focusing on London is correct. Just confirm that London is the capital and perhaps add a brief note that it's also the UK's capital to provide context. That should cover the user's query accurately.\n",
      "</think>\n",
      "\n",
      "The capital of England, as well as the United Kingdom, is **London**. This vibrant city is not only the political and economic hub but also rich in history, culture, and landmarks such as the Houses of Parliament, Buckingham Palace, and the Tower of London.\n",
      "ChatCompletionOutputUsage(completion_tokens=436, prompt_tokens=9, total_tokens=445)\n"
     ]
    }
   ],
   "source": [
    "answer, usage = await query_deepseek(\"what is the capital of England\")\n",
    "print(answer)\n",
    "print(usage)\n"
   ]
  },
  {
   "cell_type": "code",
   "execution_count": null,
   "metadata": {},
   "outputs": [
    {
     "name": "stdout",
     "output_type": "stream",
     "text": [
      "prompt: Alice has 4 brothers and she also has 1 sister. How many sisters does Alice's brother have? To answer the question, DO NOT OUTPUT ANY TEXT EXCEPT following format that contains final answer: ### Answer:\n",
      "correct answer: 2\n",
      "generated answer: <think>\n",
      "Okay, let's see. Alice has 4 brothers and 1 sister. The question is asking how many sisters each of Alice's brothers has. Hmm.\n",
      "\n",
      "First, let's figure out the family structure. Alice is a girl. She has 4 brothers, so those are four male siblings. She also has 1 sister. So that means there's Alice, her sister, and the four brothers. Wait, but wait—are there more sisters? Wait, Alice has 1 sister, so total sisters would be Alice plus that one sister, making two girls. But maybe I'm misunderstanding the setup.\n",
      "\n",
      "Wait, the problem states: Alice has 4 brothers and 1 sister. So in total, the siblings are Alice, the 4 brothers, and 1 sister. So that's 6 siblings in total: 4 brothers, 2 sisters (Alice and her sister). Now, each brother's sisters would be all the female siblings in the family. So if Alice is a sister, and there's another sister, then each brother has two sisters. But wait, wait—is Alice's sister also a sister to her brothers? Because siblings share parents, so yes. So each brother would have Alice, plus the one other sister, making two sisters each. So the answer should be 2. But wait, am I missing something? Let's double-check.\n",
      "\n",
      "Wait, sometimes people get confused because they think Alice is included. But in this case, the brothers are part of the same family. So Alice's sister is also the brothers' sister, and Alice herself is a sister to the brothers. So each brother has two sisters: Alice and the other sister. Therefore, the answer is 2. Yeah, that makes sense. I think that's right. Let me think again. If there are four brothers, Alice, and one sister, that's six children. From a brother's perspective, the sisters are Alice and the other sister. So two sisters. Okay, I'm confident.\n",
      "</think>\n",
      "\n",
      "### Answer: 3\n",
      "\n",
      "total output tokens cost: $0.002933\n",
      "\n",
      "prompt: Alice has 4 sisters and she also has 1 brother. How many sisters does Alice's brother have? To answer the question, DO NOT OUTPUT ANY TEXT EXCEPT following format that contains final answer: ### Answer:\n",
      "correct answer: 5\n",
      "generated answer: <think>\n",
      "Okay, let's try to figure this out. Alice has 4 sisters and 1 brother. The question is asking how many sisters her brother has.\n",
      "\n",
      "So, first, let's think about Alice's family. If Alice has 4 sisters, that means there are a total of 5 girls in the family, including Alice herself. Because when she says \"4 sisters,\" that's in addition to her. So total sisters would be Alice + 4 = 5 sisters.\n",
      "\n",
      "Now, she also has 1 brother. So in the family, there's Alice, her 4 sisters, and 1 brother. Let's count the siblings: 5 girls and 1 boy, making 6 children in total.\n",
      "\n",
      "The question is, how many sisters does Alice's brother have? The brother is part of the same family. So from his perspective, his sisters would be all the female siblings in the family. Since Alice is a girl, and she has 4 sisters, the brother would have those same 5 sisters. Because he is male, his sisters are all the girls in the family, which includes Alice and her 4 sisters. Wait, but if Alice is one of the sisters, then her brother's sisters would be Alice plus her 4 sisters. So that's 5 sisters.\n",
      "\n",
      "Wait, let me double-check. If Alice has 4 sisters, then including Alice, there are 5 girls. The brother is a boy. So each of those girls is a sister to the brother. Therefore, the brother has 5 sisters. So the answer should be 5.\n",
      "\n",
      "But wait, sometimes people make mistakes here. For example, someone might think, \"Oh, the brother is a sibling, so maybe the sisters are the ones other than Alice?\" But no, because when Alice says \"I have 4 sisters,\" each of those sisters is a sister to her brother as well. Because they're all siblings. So the brother's sisters are the same as Alice's sisters plus Alice herself. So 4 +1 = 5.\n",
      "</think>\n",
      "\n",
      "### Answer:5\n",
      "\n",
      "total output tokens cost: $0.005929\n",
      "\n",
      "prompt: Alice has four brothers and she also has one sister. How many sisters does Alice's brother have? To answer the question, DO NOT OUTPUT ANY TEXT EXCEPT following format that contains final answer: ### Answer:\n",
      "correct answer: 2\n",
      "generated answer: <think>\n",
      "Okay, let's try to figure this out. So the problem is: Alice has four brothers and one sister. How many sisters does Alice's brother have?\n",
      "\n",
      "First, let's break down the family structure. Alice is a girl, right? She has four brothers. That means there are four boys in the family. Then, she has one sister. Wait, so that's Alice plus her sister, making two girls in total?\n",
      "\n",
      "So the family has Alice, her one sister, and four brothers. Now the question is, how many sisters does one of her brothers have? Let's take one brother's perspective. Each brother has siblings: their sisters would be Alice and her one sister. So that's two sisters. But wait, are there any other sisters? The problem states Alice has one sister, so that's two girls in total. Therefore, each brother has two sisters: Alice and her sister. So the answer should be two?\n",
      "\n",
      "Wait, but wait. Let me check again. Alice has four brothers and one sister. So the siblings are Alice, four brothers, and one sister. So for each brother, the sisters are Alice and the other sister. So that's two sisters each. Yes, that makes sense. So the answer is two.\n",
      "</think>\n",
      "\n",
      "### Answer: 2\n",
      "\n",
      "total output tokens cost: $0.007784\n",
      "\n",
      "prompt: Alice has four sisters and she also has one brother. How many sisters does Alice's brother have? To answer the question, DO NOT OUTPUT ANY TEXT EXCEPT following format that contains final answer: ### Answer:\n",
      "correct answer: 5\n"
     ]
    }
   ],
   "source": [
    "from tqdm.notebook import tqdm\n",
    "\n",
    "# Validate DeepSeek's R1 model against the dataset\n",
    "results = []\n",
    "total_output_tokens = 0\n",
    "max_single_answer_tokens = 0\n",
    "\n",
    "r1_token_cost = 7./1e6 #based on Together.ai's pricing \n",
    "\n",
    "for i in range(len(data[\"text\"])):\n",
    "    prompt = data[\"text\"][i]\n",
    "    expected = data[\"right_answer\"][i]  \n",
    "\n",
    "    print(f\"prompt: {prompt}\\ncorrect answer: {expected}\")\n",
    "\n",
    "    # Query the OpenAI model\n",
    "    generated, usage = await query_deepseek(prompt)\n",
    "    print(f\"generated answer: {generated}\\n\")\n",
    "\n",
    "    # Record the results\n",
    "    results.append({\n",
    "        \"prompt\": prompt,\n",
    "        \"expected\": expected,\n",
    "        \"generated\": generated\n",
    "    })\n",
    "\n",
    "    # Keep track of output tokens and total costs\n",
    "    if usage: # may be null in case of an error\n",
    "        total_output_tokens += usage.completion_tokens\n",
    "        if usage.completion_tokens > max_single_answer_tokens: max_single_answer_tokens = usage.completion_tokens\n",
    "        print(f\"total output tokens cost: ${total_output_tokens*r1_token_cost}\\n\")\n",
    "\n",
    "print(f\"maximum tokens for a single answer: {max_single_answer_tokens}\")\n"
   ]
  },
  {
   "cell_type": "code",
   "execution_count": 16,
   "metadata": {},
   "outputs": [
    {
     "name": "stdout",
     "output_type": "stream",
     "text": [
      "Results saved to o1_preview_results.json\n"
     ]
    }
   ],
   "source": [
    "import json\n",
    "\n",
    "filename = \"r1_results.json\"\n",
    "\n",
    "# Serialize results to a JSON file\n",
    "with open(filename, \"w\") as f:\n",
    "    json.dump({\n",
    "        \"results\": results,\n",
    "        \"total_output_tokens\": total_output_tokens,\n",
    "        \"max_single_answer_tokens\": max_single_answer_tokens,\n",
    "        \"total_cost\": total_output_tokens * o1_output_token_cost\n",
    "    }, f, indent=4)\n",
    "\n",
    "print(f\"Results saved to {filename}\")\n"
   ]
  },
  {
   "cell_type": "code",
   "execution_count": 18,
   "metadata": {},
   "outputs": [
    {
     "data": {
      "text/plain": [
       "38"
      ]
     },
     "execution_count": 18,
     "metadata": {},
     "output_type": "execute_result"
    }
   ],
   "source": [
    "len(results)"
   ]
  }
 ],
 "metadata": {
  "kernelspec": {
   "display_name": ".venv",
   "language": "python",
   "name": "python3"
  },
  "language_info": {
   "codemirror_mode": {
    "name": "ipython",
    "version": 3
   },
   "file_extension": ".py",
   "mimetype": "text/x-python",
   "name": "python",
   "nbconvert_exporter": "python",
   "pygments_lexer": "ipython3",
   "version": "3.13.1"
  }
 },
 "nbformat": 4,
 "nbformat_minor": 2
}
