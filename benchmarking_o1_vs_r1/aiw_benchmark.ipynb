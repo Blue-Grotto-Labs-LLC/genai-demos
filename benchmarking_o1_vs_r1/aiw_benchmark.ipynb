{
 "cells": [
  {
   "cell_type": "code",
   "execution_count": 1,
   "metadata": {},
   "outputs": [],
   "source": [
    "!pip install -qU openai datasets tqdm pandas"
   ]
  },
  {
   "cell_type": "code",
   "execution_count": 2,
   "metadata": {},
   "outputs": [],
   "source": [
    "import getpass\n",
    "openai_api_key = getpass.getpass(\"OpenAI API key: \")\n"
   ]
  },
  {
   "cell_type": "code",
   "execution_count": 3,
   "metadata": {},
   "outputs": [
    {
     "name": "stderr",
     "output_type": "stream",
     "text": [
      "/Users/Angela/Desktop/genai-demos/benchmarking_o1_vs_r1/.venv/lib/python3.13/site-packages/tqdm/auto.py:21: TqdmWarning: IProgress not found. Please update jupyter and ipywidgets. See https://ipywidgets.readthedocs.io/en/stable/user_install.html\n",
      "  from .autonotebook import tqdm as notebook_tqdm\n",
      "Generating train split: 100%|██████████| 274/274 [00:00<00:00, 37538.44 examples/s]\n"
     ]
    }
   ],
   "source": [
    "from datasets import load_dataset\n",
    "\n",
    "# Load the \"Alice in Wonderland\" dataset from Hugging Face\n",
    "dataset = load_dataset(\"marianna13/aiw-prompts\")\n",
    "data = dataset['test'] if 'test' in dataset else dataset['train']"
   ]
  },
  {
   "cell_type": "code",
   "execution_count": 7,
   "metadata": {},
   "outputs": [
    {
     "name": "stdout",
     "output_type": "stream",
     "text": [
      "{'id': [1, 2, 3, 4, 5], 'text': [\"Alice has 4 brothers and she also has 1 sister. How many sisters does Alice's brother have? To answer the question, DO NOT OUTPUT ANY TEXT EXCEPT following format that contains final answer: ### Answer:\", \"Alice has 4 sisters and she also has 1 brother. How many sisters does Alice's brother have? To answer the question, DO NOT OUTPUT ANY TEXT EXCEPT following format that contains final answer: ### Answer:\", \"Alice has four brothers and she also has one sister. How many sisters does Alice's brother have? To answer the question, DO NOT OUTPUT ANY TEXT EXCEPT following format that contains final answer: ### Answer:\", \"Alice has four sisters and she also has one brother. How many sisters does Alice's brother have? To answer the question, DO NOT OUTPUT ANY TEXT EXCEPT following format that contains final answer: ### Answer:\", \"Alice has 4 brothers and she also has 1 sister. How many sisters does Alice's brother have?\"], 'right_answer': ['2', '5', '2', '5', '2'], 'description': ['original prompt', 'easy prompt', 'original prompt, words instead numbers', 'easy prompt, words instead numbers', 'original prompt, plain, no format enforcement']}\n"
     ]
    }
   ],
   "source": [
    "print(data[:5])  # Inspect the first 5 rows of 'data'\n"
   ]
  },
  {
   "cell_type": "code",
   "execution_count": 8,
   "metadata": {},
   "outputs": [],
   "source": [
    "import openai\n",
    "\n",
    "# Function to query the OpenAI model\n",
    "def query_openai(prompt, model=\"o1-2024-12-17\", max_tokens=100):\n",
    "    try:\n",
    "        response = openai.ChatCompletion.create(\n",
    "            model=model,\n",
    "            messages=[{\"role\": \"system\", \"content\": \"You are a helpful assistant.\"},\n",
    "                      {\"role\": \"user\", \"content\": prompt}],\n",
    "            max_tokens=max_tokens\n",
    "        )\n",
    "        return response[\"choices\"][0][\"message\"][\"content\"].strip()\n",
    "    except Exception as e:\n",
    "        return str(e)\n"
   ]
  },
  {
   "cell_type": "code",
   "execution_count": 9,
   "metadata": {},
   "outputs": [
    {
     "name": "stdout",
     "output_type": "stream",
     "text": [
      "\n",
      "\n",
      "You tried to access openai.Completion, but this is no longer supported in openai>=1.0.0 - see the README at https://github.com/openai/openai-python for the API.\n",
      "\n",
      "You can run `openai migrate` to automatically upgrade your codebase to use the 1.0.0 interface. \n",
      "\n",
      "Alternatively, you can pin your installation to the old version, e.g. `pip install openai==0.28`\n",
      "\n",
      "A detailed migration guide is available here: https://github.com/openai/openai-python/discussions/742\n",
      "\n"
     ]
    }
   ],
   "source": [
    "print(query_openai(\"what is the capital of England\"))"
   ]
  },
  {
   "cell_type": "code",
   "execution_count": null,
   "metadata": {},
   "outputs": [],
   "source": [
    "from tqdm.notebook import tqdm\n",
    "import pandas as pd\n",
    "\n",
    "\n",
    "\n",
    "\n",
    "\n",
    "\n",
    "# Validate OpenAI's model against the dataset\n",
    "results = []\n",
    "\n",
    "for item in tqdm(data):\n",
    "    prompt = item[\"prompt\"]\n",
    "    expected = item[\"completion\"]  # Adjust the key if necessary\n",
    "\n",
    "    # Query the OpenAI model\n",
    "    generated = query_openai(prompt)\n",
    "\n",
    "    # Record the results\n",
    "    results.append({\n",
    "        \"prompt\": prompt,\n",
    "        \"expected\": expected,\n",
    "        \"generated\": generated\n",
    "    })\n",
    "\n",
    "# Convert results to a DataFrame for analysis\n",
    "results_df = pd.DataFrame(results)\n",
    "\n",
    "# Calculate the percentage of correct responses\n",
    "results_df[\"is_correct\"] = results_df[\"expected\"] == results_df[\"generated\"]\n",
    "accuracy = results_df[\"is_correct\"].mean() * 100\n",
    "\n",
    "# Save the results to a CSV file\n",
    "results_df.to_csv(\"validation_results.csv\", index=False)\n",
    "\n",
    "# Display a preview of the results and accuracy\n",
    "print(f\"Accuracy: {accuracy:.2f}%\")\n",
    "results_df.head()\n"
   ]
  }
 ],
 "metadata": {
  "kernelspec": {
   "display_name": ".venv",
   "language": "python",
   "name": "python3"
  },
  "language_info": {
   "codemirror_mode": {
    "name": "ipython",
    "version": 3
   },
   "file_extension": ".py",
   "mimetype": "text/x-python",
   "name": "python",
   "nbconvert_exporter": "python",
   "pygments_lexer": "ipython3",
   "version": "3.13.1"
  }
 },
 "nbformat": 4,
 "nbformat_minor": 2
}
